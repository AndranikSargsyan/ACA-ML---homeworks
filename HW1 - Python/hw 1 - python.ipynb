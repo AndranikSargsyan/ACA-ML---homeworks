{
 "cells": [
  {
   "cell_type": "code",
   "execution_count": 1,
   "metadata": {},
   "outputs": [
    {
     "name": "stdout",
     "output_type": "stream",
     "text": [
      "9! = 362880 \n",
      "\n",
      "reading from cache... 8! = 40320\n",
      "8! =  40320 \n",
      "\n",
      "reading from cache... 9! = 362880\n",
      "11! = 39916800 \n",
      "\n"
     ]
    }
   ],
   "source": [
    "# 1. Function factorial with inner cache\n",
    "\n",
    "def factorial(n, cache={}):\n",
    "    if n <= 1:\n",
    "        return 1\n",
    "    \n",
    "    if n in cache:\n",
    "        print('reading from cache...', '%d! = %d' % (n, cache[n]))\n",
    "        return cache[n]\n",
    "    \n",
    "    cache[n] = n * factorial(n-1)\n",
    "    return cache[n]\n",
    "\n",
    "print('9! =',factorial(9), '\\n')\n",
    "print('8! = ', factorial(8), '\\n')\n",
    "print('11! =', factorial(11), '\\n')"
   ]
  },
  {
   "cell_type": "code",
   "execution_count": 2,
   "metadata": {},
   "outputs": [
    {
     "name": "stdout",
     "output_type": "stream",
     "text": [
      "{'call_me_maybe': 'I am called, yeeeah!!!', 'call_me_too': 'I am called too, yeaaah!!!', 'dummy_number': 12}\n"
     ]
    }
   ],
   "source": [
    "# 2. Function that takes an object and returns a dictionary with method names as keys\n",
    "#    and the result of calling this methods as values.\n",
    "#    Methods are all specified, except for double underscore (dunder) methods.\n",
    "#    We suppose our methods don't require arguments.\n",
    "\n",
    "class MyClass:\n",
    "    def call_me_maybe(self):\n",
    "        return 'I am called, yeeeah!!!'\n",
    "    \n",
    "    def call_me_too(self):\n",
    "        return 'I am called too, yeaaah!!!'\n",
    "    \n",
    "    def dummy_number(self):\n",
    "        return 5 + 7\n",
    "\n",
    "def foo(obj):\n",
    "    results = {}\n",
    "    for func_name in dir(obj):\n",
    "        if func_name.find('__') != 0:\n",
    "            results[func_name] = getattr(obj, func_name)()\n",
    "    return results\n",
    "\n",
    "myobj = MyClass()\n",
    "results = foo(myobj)\n",
    "\n",
    "print(results)"
   ]
  },
  {
   "cell_type": "code",
   "execution_count": 3,
   "metadata": {},
   "outputs": [
    {
     "name": "stdout",
     "output_type": "stream",
     "text": [
      "initial matrix: \n",
      " [[1 2 3]\n",
      " [4 5 6]\n",
      " [7 8 9]] \n",
      "\n",
      "creating 0 deg rotation...\n",
      "\n",
      "creating 90 deg rotation...\n",
      "\n",
      "creating 180 deg rotation...\n",
      "\n",
      "creating 270 deg rotation...\n",
      "\n",
      "clockwise rotation by 90 deg:\n",
      "(rotating by 90 deg...)\n",
      "[[7 4 1]\n",
      " [8 5 2]\n",
      " [9 6 3]] \n",
      "\n",
      "clockwise rotation by 450 deg:\n",
      "(rotating by 90 deg...)\n",
      "[[7 4 1]\n",
      " [8 5 2]\n",
      " [9 6 3]] \n",
      "\n",
      "clockwise rotation by r180 * r90 deg\n",
      "(rotating by 270 deg...)\n",
      "[[3 6 9]\n",
      " [2 5 8]\n",
      " [1 4 7]] \n",
      "\n"
     ]
    }
   ],
   "source": [
    "# 3. Class that defines objects, which represent a group of matrix rotations.\n",
    "#    Define object multiplication by rewriting dunder method,\n",
    "#    use singleton technique to reduce memory costs.\n",
    "#    Every object of this class should be callable,\n",
    "#    take a matrix and return a rotated matrix.\n",
    "\n",
    "import numpy as np\n",
    "\n",
    "def singleton(cls):\n",
    "    def getinstance(angle):\n",
    "        true_angle = angle % 360\n",
    "        \n",
    "        if not true_angle in [0, 90, 180, 270]:\n",
    "            raise ValueError(\"Invalid angle. Angle can only be a multiple of 90\")\n",
    "        \n",
    "        if not true_angle in cls.instances:\n",
    "            cls.instances[true_angle] = cls(true_angle)\n",
    "        return cls.instances[true_angle]\n",
    "    return getinstance\n",
    "\n",
    "@singleton\n",
    "class Rotation:\n",
    "    instances = {}\n",
    "    \n",
    "    def __init__(self, angle):\n",
    "        print('creating %d deg rotation...\\n' % angle)\n",
    "        self.angle = angle % 360\n",
    "        \n",
    "    def __call__(self, matrix):\n",
    "        matrix = np.array(matrix)\n",
    "        \n",
    "        if self.angle == 0:\n",
    "            print('(rotating by 0 deg...)')\n",
    "            return matrix\n",
    "        \n",
    "        if self.angle == 90:\n",
    "            print('(rotating by 90 deg...)')\n",
    "            return np.flip(matrix, 0).T\n",
    "        \n",
    "        if self.angle == 180:\n",
    "            print('(rotating by 180 deg...)')\n",
    "            return np.flip(np.flip(matrix, 0), 1)\n",
    "        \n",
    "        if self.angle == 270:\n",
    "            print('(rotating by 270 deg...)')\n",
    "            return np.flip(matrix.T, 0)\n",
    "        \n",
    "    def __mul__(self, other):\n",
    "        return Rotation(self.angle + other.angle)\n",
    "        \n",
    "m = np.array([[1, 2, 3], [4, 5, 6], [7, 8, 9]])\n",
    "print('initial matrix: \\n', m, '\\n')\n",
    "\n",
    "r0 = Rotation(0)\n",
    "r90 = Rotation(90)\n",
    "r180 = Rotation(180)\n",
    "r270 = Rotation(270)\n",
    "\n",
    "r450 = Rotation(450) # will not create a new object\n",
    "\n",
    "print('clockwise rotation by 90 deg:')\n",
    "print(r90(m), '\\n')\n",
    "\n",
    "print('clockwise rotation by 450 deg:')\n",
    "print(r450(m), '\\n')\n",
    "\n",
    "print('clockwise rotation by r180 * r90 deg')\n",
    "print((r180 * r90)(m), '\\n')"
   ]
  },
  {
   "cell_type": "code",
   "execution_count": 4,
   "metadata": {},
   "outputs": [
    {
     "name": "stdout",
     "output_type": "stream",
     "text": [
      "creating singleton\n",
      "True\n"
     ]
    }
   ],
   "source": [
    "# 4. Write Singleton class\n",
    "\n",
    "def singleton(cls):\n",
    "    instances = {}\n",
    "    def getinstance():\n",
    "        if not cls in instances:\n",
    "            instances[cls] = cls()\n",
    "        return instances[cls]\n",
    "    return getinstance\n",
    "\n",
    "@singleton\n",
    "class Singleton:\n",
    "    def __init__(self):\n",
    "        print('creating singleton')\n",
    "            \n",
    "a = Singleton()\n",
    "b = Singleton()\n",
    "\n",
    "print(a is b)"
   ]
  }
 ],
 "metadata": {
  "kernelspec": {
   "display_name": "Python 3",
   "language": "python",
   "name": "python3"
  },
  "language_info": {
   "codemirror_mode": {
    "name": "ipython",
    "version": 3
   },
   "file_extension": ".py",
   "mimetype": "text/x-python",
   "name": "python",
   "nbconvert_exporter": "python",
   "pygments_lexer": "ipython3",
   "version": "3.6.3"
  }
 },
 "nbformat": 4,
 "nbformat_minor": 2
}
