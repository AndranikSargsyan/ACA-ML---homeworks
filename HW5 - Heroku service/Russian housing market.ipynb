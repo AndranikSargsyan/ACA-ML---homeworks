{
 "cells": [
  {
   "cell_type": "markdown",
   "metadata": {},
   "source": [
    "## Model hosted here https://russian-housing-market.herokuapp.com/"
   ]
  },
  {
   "cell_type": "code",
   "execution_count": 56,
   "metadata": {},
   "outputs": [
    {
     "data": {
      "text/html": [
       "<div>\n",
       "<style scoped>\n",
       "    .dataframe tbody tr th:only-of-type {\n",
       "        vertical-align: middle;\n",
       "    }\n",
       "\n",
       "    .dataframe tbody tr th {\n",
       "        vertical-align: top;\n",
       "    }\n",
       "\n",
       "    .dataframe thead th {\n",
       "        text-align: right;\n",
       "    }\n",
       "</style>\n",
       "<table border=\"1\" class=\"dataframe\">\n",
       "  <thead>\n",
       "    <tr style=\"text-align: right;\">\n",
       "      <th></th>\n",
       "      <th>full_sq</th>\n",
       "      <th>life_sq</th>\n",
       "      <th>build_year</th>\n",
       "      <th>num_room</th>\n",
       "      <th>sub_area</th>\n",
       "    </tr>\n",
       "  </thead>\n",
       "  <tbody>\n",
       "    <tr>\n",
       "      <th>0</th>\n",
       "      <td>43</td>\n",
       "      <td>27.0</td>\n",
       "      <td>NaN</td>\n",
       "      <td>NaN</td>\n",
       "      <td>Bibirevo</td>\n",
       "    </tr>\n",
       "    <tr>\n",
       "      <th>1</th>\n",
       "      <td>34</td>\n",
       "      <td>19.0</td>\n",
       "      <td>NaN</td>\n",
       "      <td>NaN</td>\n",
       "      <td>Nagatinskij Zaton</td>\n",
       "    </tr>\n",
       "    <tr>\n",
       "      <th>2</th>\n",
       "      <td>43</td>\n",
       "      <td>29.0</td>\n",
       "      <td>NaN</td>\n",
       "      <td>NaN</td>\n",
       "      <td>Tekstil'shhiki</td>\n",
       "    </tr>\n",
       "    <tr>\n",
       "      <th>3</th>\n",
       "      <td>89</td>\n",
       "      <td>50.0</td>\n",
       "      <td>NaN</td>\n",
       "      <td>NaN</td>\n",
       "      <td>Mitino</td>\n",
       "    </tr>\n",
       "    <tr>\n",
       "      <th>4</th>\n",
       "      <td>77</td>\n",
       "      <td>77.0</td>\n",
       "      <td>NaN</td>\n",
       "      <td>NaN</td>\n",
       "      <td>Basmannoe</td>\n",
       "    </tr>\n",
       "    <tr>\n",
       "      <th>5</th>\n",
       "      <td>67</td>\n",
       "      <td>46.0</td>\n",
       "      <td>NaN</td>\n",
       "      <td>NaN</td>\n",
       "      <td>Nizhegorodskoe</td>\n",
       "    </tr>\n",
       "    <tr>\n",
       "      <th>6</th>\n",
       "      <td>25</td>\n",
       "      <td>14.0</td>\n",
       "      <td>NaN</td>\n",
       "      <td>NaN</td>\n",
       "      <td>Sokol'niki</td>\n",
       "    </tr>\n",
       "    <tr>\n",
       "      <th>7</th>\n",
       "      <td>44</td>\n",
       "      <td>44.0</td>\n",
       "      <td>NaN</td>\n",
       "      <td>NaN</td>\n",
       "      <td>Bibirevo</td>\n",
       "    </tr>\n",
       "    <tr>\n",
       "      <th>8</th>\n",
       "      <td>42</td>\n",
       "      <td>27.0</td>\n",
       "      <td>NaN</td>\n",
       "      <td>NaN</td>\n",
       "      <td>Koptevo</td>\n",
       "    </tr>\n",
       "    <tr>\n",
       "      <th>9</th>\n",
       "      <td>36</td>\n",
       "      <td>21.0</td>\n",
       "      <td>NaN</td>\n",
       "      <td>NaN</td>\n",
       "      <td>Kuncevo</td>\n",
       "    </tr>\n",
       "  </tbody>\n",
       "</table>\n",
       "</div>"
      ],
      "text/plain": [
       "   full_sq  life_sq  build_year  num_room           sub_area\n",
       "0       43     27.0         NaN       NaN           Bibirevo\n",
       "1       34     19.0         NaN       NaN  Nagatinskij Zaton\n",
       "2       43     29.0         NaN       NaN     Tekstil'shhiki\n",
       "3       89     50.0         NaN       NaN             Mitino\n",
       "4       77     77.0         NaN       NaN          Basmannoe\n",
       "5       67     46.0         NaN       NaN     Nizhegorodskoe\n",
       "6       25     14.0         NaN       NaN         Sokol'niki\n",
       "7       44     44.0         NaN       NaN           Bibirevo\n",
       "8       42     27.0         NaN       NaN            Koptevo\n",
       "9       36     21.0         NaN       NaN            Kuncevo"
      ]
     },
     "execution_count": 56,
     "metadata": {},
     "output_type": "execute_result"
    }
   ],
   "source": [
    "import numpy as np\n",
    "import pandas as pd\n",
    "import xgboost as xgb\n",
    "from sklearn.linear_model import RidgeCV\n",
    "from sklearn.preprocessing import Imputer, StandardScaler\n",
    "from sklearn.model_selection import train_test_split\n",
    "from sklearn.metrics import mean_squared_log_error\n",
    "from sklearn.pipeline import make_pipeline\n",
    "from sklearn.base import TransformerMixin\n",
    "from sklearn.model_selection import GridSearchCV\n",
    "from sklearn.externals import joblib\n",
    "import geopy\n",
    "from geopy.geocoders import Yandex\n",
    "import pickle\n",
    "import os\n",
    "\n",
    "df = pd.read_csv('./data/train.csv')\n",
    "\n",
    "y = df['price_doc'].values\n",
    "df = df[['full_sq', 'life_sq', 'build_year', 'num_room', 'sub_area']]\n",
    "\n",
    "df.head(10)"
   ]
  },
  {
   "cell_type": "code",
   "execution_count": 57,
   "metadata": {
    "collapsed": true
   },
   "outputs": [],
   "source": [
    "X_train, X_test, y_train, y_test = train_test_split(df, y, test_size=0.1, random_state=42)"
   ]
  },
  {
   "cell_type": "code",
   "execution_count": 58,
   "metadata": {
    "collapsed": true
   },
   "outputs": [],
   "source": [
    "geolocator = Yandex()\n",
    "\n",
    "def do_geocode(address, trial=0):\n",
    "    try:\n",
    "        location = geolocator.geocode(address)\n",
    "        if location == None:\n",
    "            return \"NaN\", \"NaN\"\n",
    "        return location.latitude, location.longitude\n",
    "    except Exception as e:\n",
    "        if trial > 3:\n",
    "            return \"NaN\", \"NaN\"\n",
    "        else:\n",
    "            return do_geocode(address, trial + 1)\n",
    "        time.sleep(2)\n",
    "        \n",
    "def load_pickle(path):\n",
    "    with open(path, 'rb') as f:\n",
    "        return pickle.load(f)\n",
    "    \n",
    "def save_pickle(obj, path):\n",
    "    with open(path, 'wb') as f:\n",
    "        pickle.dump(obj, f, pickle.HIGHEST_PROTOCOL)"
   ]
  },
  {
   "cell_type": "code",
   "execution_count": 59,
   "metadata": {},
   "outputs": [
    {
     "name": "stderr",
     "output_type": "stream",
     "text": [
      "Exception ignored in: <bound method DMatrix.__del__ of <xgboost.core.DMatrix object at 0x7f95e062fd30>>\n",
      "Traceback (most recent call last):\n",
      "  File \"/home/andranik/anaconda3/lib/python3.6/site-packages/xgboost/core.py\", line 366, in __del__\n",
      "    if self.handle is not None:\n",
      "AttributeError: 'DMatrix' object has no attribute 'handle'\n"
     ]
    }
   ],
   "source": [
    "class GeoDataTransformer(TransformerMixin):\n",
    "    def __init__(self):\n",
    "        self.cache = {}\n",
    "        self.pickle_path = './data/locations.pkl'\n",
    "        self.imp = Imputer(strategy='median')\n",
    "        \n",
    "        if os.path.isfile(self.pickle_path):\n",
    "            self.cache = load_pickle(self.pickle_path)\n",
    "\n",
    "    def fit(self, df, y=None):\n",
    "        return self\n",
    "                \n",
    "    def transform(self, df):\n",
    "        df_copy = df.copy()\n",
    "        locations = []\n",
    "        for sub_area in df['sub_area']:\n",
    "            if sub_area in self.cache:\n",
    "                latitude, longitude = self.cache[sub_area]\n",
    "                if latitude == 'NA' or longitude == 'NA':\n",
    "                    locations.append(['NaN', 'NaN'])\n",
    "                else:\n",
    "                    locations.append([latitude, longitude])\n",
    "            else:\n",
    "                latitude, longitude = do_geocode(sub_area)\n",
    "                self.cache[sub_area] = [latitude, longitude]\n",
    "                locations.append([latitude, longitude])\n",
    "        \n",
    "        locations = np.array(locations)\n",
    "        locations = self.imp.fit_transform(locations)\n",
    "        \n",
    "        lat = locations[:, 0]\n",
    "        lon = locations[:, 1]\n",
    "\n",
    "        df_copy['x'] = np.cos(lat) * np.cos(lon)\n",
    "        df_copy['y'] = np.cos(lat) * np.sin(lon)\n",
    "        df_copy['z'] = np.sin(lat)\n",
    "        \n",
    "        df_copy = df_copy.drop(columns=['sub_area'])\n",
    "        \n",
    "        if not os.path.isfile(self.pickle_path):\n",
    "            save_pickle(cache, self.pickle_path)\n",
    "            \n",
    "        return df_copy\n",
    "\n",
    "class MyRegression(TransformerMixin):\n",
    "    def fit(self, df, y=None):\n",
    "        self.model = RidgeCV(alphas=(0.01, 0.1, 0.5, 1, 5, 10, 50, 100, 500))\n",
    "        self.model.fit(df, y)\n",
    "        return self\n",
    "    \n",
    "    def transform(self, df):\n",
    "        df_copy = df.copy()\n",
    "        values = self.model.predict(df)\n",
    "        df_copy = np.column_stack([df_copy, values])\n",
    "        return df_copy\n",
    "    \n",
    "    \n",
    "class MyXGBoost(TransformerMixin):\n",
    "    def fit(self, df, y=None):\n",
    "        xgb_model = xgb.XGBRegressor()\n",
    "        params = {\n",
    "            'gamma': [0.5, 1, 2],\n",
    "            'max_depth': [3, 4, 5]\n",
    "        }\n",
    "        grid_search = GridSearchCV(\n",
    "            xgb_model,\n",
    "            param_grid=params,\n",
    "            n_jobs=4\n",
    "        )\n",
    "        self.model = grid_search\n",
    "        self.model.fit(df, y)\n",
    "        return self\n",
    "    \n",
    "    def transform(self, df):\n",
    "        df_copy = df.copy()\n",
    "        values = self.model.predict(df)\n",
    "        df_copy = np.column_stack([df_copy, values])\n",
    "        return df_copy\n",
    "\n",
    "pipe = make_pipeline(\n",
    "    GeoDataTransformer(),\n",
    "    Imputer(strategy='mean'),\n",
    "    StandardScaler(),\n",
    "    MyRegression(),\n",
    "    MyXGBoost(),\n",
    "    xgb.XGBRegressor(max_depth=3)\n",
    ")\n",
    "\n",
    "model = pipe.fit(X_train, y_train)"
   ]
  },
  {
   "cell_type": "code",
   "execution_count": 60,
   "metadata": {},
   "outputs": [
    {
     "data": {
      "text/plain": [
       "0.24812860962807196"
      ]
     },
     "execution_count": 60,
     "metadata": {},
     "output_type": "execute_result"
    }
   ],
   "source": [
    "predictions = np.abs(model.predict(X_test))\n",
    "mean_squared_log_error(y_test, predictions)"
   ]
  },
  {
   "cell_type": "code",
   "execution_count": 61,
   "metadata": {},
   "outputs": [
    {
     "data": {
      "text/plain": [
       "['model.pkl']"
      ]
     },
     "execution_count": 61,
     "metadata": {},
     "output_type": "execute_result"
    }
   ],
   "source": [
    "model.MyRegression = MyRegression\n",
    "\n",
    "joblib.dump(model, 'model.pkl')"
   ]
  }
 ],
 "metadata": {
  "kernelspec": {
   "display_name": "Python 3",
   "language": "python",
   "name": "python3"
  },
  "language_info": {
   "codemirror_mode": {
    "name": "ipython",
    "version": 3
   },
   "file_extension": ".py",
   "mimetype": "text/x-python",
   "name": "python",
   "nbconvert_exporter": "python",
   "pygments_lexer": "ipython3",
   "version": "3.6.3"
  }
 },
 "nbformat": 4,
 "nbformat_minor": 2
}
